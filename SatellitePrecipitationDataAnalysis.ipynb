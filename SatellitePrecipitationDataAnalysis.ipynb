{
 "cells": [
  {
   "cell_type": "markdown",
   "metadata": {},
   "source": [
    "<h1> Satellite Precipitation Data Analysis</h1>"
   ]
  },
  {
   "cell_type": "markdown",
   "metadata": {},
   "source": [
    "<p> This project's goal is to analyze PERSIANN (Precipitation Estimation from Remotely Sensed Information using Artificial Neural Networks) \n",
    "dataset provided by CHRS Data Portal. </p>"
   ]
  },
  {
   "cell_type": "markdown",
   "metadata": {},
   "source": [
    "<h2>Exploring the data</h2>"
   ]
  },
  {
   "cell_type": "code",
   "execution_count": 52,
   "metadata": {
    "scrolled": true
   },
   "outputs": [
    {
     "name": "stdout",
     "output_type": "stream",
     "text": [
      "Data (tiff image) shape: (25, 42)\n"
     ]
    }
   ],
   "source": [
    "from PIL import Image\n",
    "import matplotlib.pyplot as plt\n",
    "import numpy as np\n",
    "example_satellite_image_path = \"./data/PERSIANN_6h2019011706.tif\"\n",
    "\n",
    "example_img = np.asarray(Image.open(example_satellite_image_path))\n",
    "print(\"Data (tiff image) shape:\", example_img.shape)"
   ]
  },
  {
   "cell_type": "code",
   "execution_count": 11,
   "metadata": {},
   "outputs": [
    {
     "name": "stdout",
     "output_type": "stream",
     "text": [
      "Data as array (row nr 10): [-99.   -99.     0.     0.     0.     0.38   0.36   0.35   0.36   0.36\n",
      "   0.63   0.36   0.8    0.59   0.8    0.78   0.25   0.25   0.     0.\n",
      "   0.     0.     0.     0.     0.     0.     0.24   0.22   0.21   1.23\n",
      "   1.02   0.81   1.35   1.64   1.56   1.26   0.81   0.56   0.75 -99.\n",
      " -99.   -99.  ]\n"
     ]
    }
   ],
   "source": [
    "print(\"Data as array (row nr 10):\", example_img[10])"
   ]
  },
  {
   "cell_type": "code",
   "execution_count": 12,
   "metadata": {},
   "outputs": [
    {
     "data": {
      "text/plain": [
       "<matplotlib.image.AxesImage at 0x1d94f818fc8>"
      ]
     },
     "execution_count": 12,
     "metadata": {},
     "output_type": "execute_result"
    },
    {
     "data": {
      "image/png": "[encoded data removed]",
      "text/plain": [
       "<Figure size 432x288 with 1 Axes>"
      ]
     },
     "metadata": {
      "needs_background": "light"
     },
     "output_type": "display_data"
    }
   ],
   "source": [
    "from matplotlib.colors import NoNorm\n",
    "plt.imshow(example_img, cmap='gray', norm=NoNorm())"
   ]
  },
  {
   "cell_type": "markdown",
   "metadata": {},
   "source": [
    "<h2>Data loading </h2>"
   ]
  },
  {
   "cell_type": "code",
   "execution_count": 69,
   "metadata": {},
   "outputs": [],
   "source": [
    "import glob, os\n",
    "import re\n",
    "from datetime import datetime\n",
    "\n",
    "data_path = \"./data\"\n",
    "data_datetime_pattern = re.compile(r'^.*PERSIANN_6h(\\d{10}).tif$')\n",
    "\n",
    "def getDateTimeFromFileName(file_name):\n",
    "    date_time_string = data_datetime_pattern.search(file_name).group(1)\n",
    "    return datetime.strptime(date_time_string, '%Y%m%d%H')\n",
    "\n",
    "def getTiffFileAsArray(file_name):\n",
    "    return np.asarray(Image.open(file_name))\n",
    "\n",
    "# get all files containing data\n",
    "all_files = glob.glob(os.path.join(data_path, '*.tif'), recursive=False)\n",
    "\n",
    "# load data into array of tuples\n",
    "data = [(getDateTimeFromFileName(f), getTiffFileAsArray(f)) for f in all_files]\n"
   ]
  }
 ],
 "metadata": {
  "kernelspec": {
   "display_name": "Python 3",
   "language": "python",
   "name": "python3"
  },
  "language_info": {
   "codemirror_mode": {
    "name": "ipython",
    "version": 3
   },
   "file_extension": ".py",
   "mimetype": "text/x-python",
   "name": "python",
   "nbconvert_exporter": "python",
   "pygments_lexer": "ipython3",
   "version": "3.7.4"
  }
 },
 "nbformat": 4,
 "nbformat_minor": 2
}
