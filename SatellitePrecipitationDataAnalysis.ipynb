{
 "cells": [
  {
   "cell_type": "markdown",
   "metadata": {},
   "source": [
    "<h1> Satellite Precipitation Data Analysis</h1>"
   ]
  },
  {
   "cell_type": "markdown",
   "metadata": {},
   "source": [
    "<p> This project's goal is to analyze PERSIANN (Precipitation Estimation from Remotely Sensed Information using Artificial Neural Networks) \n",
    "dataset provided by CHRS Data Portal. </p>"
   ]
  },
  {
   "cell_type": "code",
   "execution_count": 2,
   "metadata": {},
   "outputs": [],
   "source": [
    "## Data domain\n",
    "\n",
    "## NCOLS and NROWS are the number of columns and rows in the raster defined by the ASCII file\n",
    "N_COLS = 42\n",
    "N_ROWS = 25\n",
    "\n",
    "## XLLCORNER and YLLCORNER are the coordinates of the lower left corner of the lower left cell\n",
    "XLL_CORNER = 14.000\n",
    "YLL_CORNER = 49.000\n",
    "\n",
    "## CELLSIZE is the cell size of the raster.\n",
    "CELL_SIZE = 0.25\n",
    "\n",
    "NO_DATA_VALUE = -99\n",
    "UNIT = \"mm\""
   ]
  },
  {
   "cell_type": "markdown",
   "metadata": {},
   "source": [
    "<h2>Exploring the data</h2>"
   ]
  },
  {
   "cell_type": "code",
   "execution_count": 3,
   "metadata": {
    "scrolled": true
   },
   "outputs": [
    {
     "name": "stdout",
     "output_type": "stream",
     "text": [
      "Data (tiff image) shape: (25, 42)\n"
     ]
    }
   ],
   "source": [
    "from PIL import Image\n",
    "import matplotlib.pyplot as plt\n",
    "import numpy as np\n",
    "example_satellite_image_path = \"./data/PERSIANN_6h2019011706.tif\"\n",
    "\n",
    "example_img = np.asarray(Image.open(example_satellite_image_path))\n",
    "print(\"Data (tiff image) shape:\", example_img.shape)"
   ]
  },
  {
   "cell_type": "code",
   "execution_count": 4,
   "metadata": {},
   "outputs": [
    {
     "name": "stdout",
     "output_type": "stream",
     "text": [
      "Data as array (row nr 10): [-99.   -99.     0.     0.     0.     0.38   0.36   0.35   0.36   0.36\n",
      "   0.63   0.36   0.8    0.59   0.8    0.78   0.25   0.25   0.     0.\n",
      "   0.     0.     0.     0.     0.     0.     0.24   0.22   0.21   1.23\n",
      "   1.02   0.81   1.35   1.64   1.56   1.26   0.81   0.56   0.75 -99.\n",
      " -99.   -99.  ]\n"
     ]
    }
   ],
   "source": [
    "print(\"Data as array (row nr 10):\", example_img[10])"
   ]
  },
  {
   "cell_type": "code",
   "execution_count": 5,
   "metadata": {},
   "outputs": [
    {
     "data": {
      "text/plain": [
       "<matplotlib.image.AxesImage at 0x237d4cc3160>"
      ]
     },
     "execution_count": 5,
     "metadata": {},
     "output_type": "execute_result"
    },
    {
     "data": {
      "image/png": "[encoded data removed]",
      "text/plain": [
       "<Figure size 432x288 with 1 Axes>"
      ]
     },
     "metadata": {
      "needs_background": "light"
     },
     "output_type": "display_data"
    }
   ],
   "source": [
    "from matplotlib.colors import NoNorm\n",
    "plt.imshow(example_img, cmap='gray', norm=NoNorm())"
   ]
  },
  {
   "cell_type": "markdown",
   "metadata": {},
   "source": [
    "<h2>Loading the data</h2>"
   ]
  },
  {
   "cell_type": "code",
   "execution_count": 6,
   "metadata": {},
   "outputs": [],
   "source": [
    "import glob, os\n",
    "import re\n",
    "from datetime import datetime\n",
    "\n",
    "data_path = \"./data\"\n",
    "data_datetime_pattern = re.compile(r'^.*PERSIANN_6h(\\d{10}).tif$')\n",
    "\n",
    "def getDateTimeFromFileName(file_name):\n",
    "    date_time_string = data_datetime_pattern.search(file_name).group(1)\n",
    "    return datetime.strptime(date_time_string, '%Y%m%d%H')\n",
    "\n",
    "def getTiffFileAsArray(file_name):\n",
    "    return np.asarray(Image.open(file_name))\n",
    "\n",
    "def getDataWithCoordinates(data_array):\n",
    "    data_with_coordinates = {}\n",
    "    for index, value in np.ndenumerate(data_array):\n",
    "        i, j = index\n",
    "        y_left_down = YLL_CORNER + CELL_SIZE * (N_ROWS - 1 - i)\n",
    "        x_left_down = XLL_CORNER + CELL_SIZE * j\n",
    "        coordinates = {\n",
    "            'left_down_corner': {'lng': x_left_down, 'lat': y_left_down},\n",
    "            'left_upper_corner': {'lng': x_left_down, 'lat': y_left_down - CELL_SIZE},\n",
    "            'right_down_corner': {'lng': x_left_down + CELL_SIZE, 'lat': y_left_down},\n",
    "            'right_upper_corner': {'lng': x_left_down + CELL_SIZE, 'lat': y_left_down - CELL_SIZE}\n",
    "        }\n",
    "        data_with_coordinates[index] = { 'value': value, 'coordinates': coordinates }\n",
    "    return data_with_coordinates\n",
    "        \n",
    "\n",
    "# get all files containing data\n",
    "all_files = glob.glob(os.path.join(data_path, '*.tif'), recursive=False)\n",
    "\n",
    "# load data into array of tuples\n",
    "data = [(getDateTimeFromFileName(f), getDataWithCoordinates(getTiffFileAsArray(f))) for f in all_files]\n"
   ]
  },
  {
   "cell_type": "code",
   "execution_count": 7,
   "metadata": {},
   "outputs": [
    {
     "data": {
      "text/plain": [
       "{'value': 0.32,\n",
       " 'coordinates': {'left_down_corner': {'lng': 18.5, 'lat': 52.25},\n",
       "  'left_upper_corner': {'lng': 18.5, 'lat': 52.0},\n",
       "  'right_down_corner': {'lng': 18.75, 'lat': 52.25},\n",
       "  'right_upper_corner': {'lng': 18.75, 'lat': 52.0}}}"
      ]
     },
     "execution_count": 7,
     "metadata": {},
     "output_type": "execute_result"
    }
   ],
   "source": [
    "# show example value and coordinates for one point in the middle of Poland\n",
    "data[13][1].get((11,18))\n"
   ]
  },
  {
   "cell_type": "markdown",
   "metadata": {},
   "source": [
    "# Display data"
   ]
  },
  {
   "cell_type": "code",
   "execution_count": 9,
   "metadata": {
    "scrolled": true
   },
   "outputs": [
    {
     "data": {
      "text/plain": [
       "<matplotlib.colorbar.Colorbar at 0x23825522198>"
      ]
     },
     "execution_count": 9,
     "metadata": {},
     "output_type": "execute_result"
    },
    {
     "data": {
      "image/png": "[encoded data removed]",
      "text/plain": [
       "<Figure size 720x648 with 2 Axes>"
      ]
     },
     "metadata": {
      "needs_background": "light"
     },
     "output_type": "display_data"
    }
   ],
   "source": [
    "from mpl_toolkits.basemap import Basemap\n",
    "import matplotlib\n",
    "import matplotlib.pyplot as plt\n",
    "import numpy as np\n",
    "\n",
    "cities = {\n",
    "    'Gdansk': {'pos': (54.36, 18.64)},\n",
    "    'Gliwice': {'pos': (50.31, 18.67)},\n",
    "    'Krakow': {'pos': (50.06, 19.96)},\n",
    "    'Lodz': {'pos': (51.77, 19.46)},\n",
    "    'Lublin': {'pos': (51.24, 22.57)},\n",
    "    'Poznan': {'pos': (52.4, 16.9)},\n",
    "    'Szczecin': {'pos': (53.43, 14.53)},\n",
    "    'Torun': {'pos': (52.9823, 18.6552)},\n",
    "    'Wroclaw': {'pos': (51.11, 17.03)},\n",
    "    'Zakopane': {'pos': (49.29, 19.96)},\n",
    "    'Warszawa': {'pos': ( 52.2297700, 21.0117800 )},\n",
    "}\n",
    "\n",
    "# Colorbar with NSW Precip colors\n",
    "nws_precip_colors = [\n",
    "    \"#fdfdfd\",  # 0.00 - 0.01 mm\n",
    "    \"#04e9e7\",  # 0.01 - 0.10 mm\n",
    "    \"#019ff4\",  # 0.10 - 0.25 mm\n",
    "    \"#0300f4\",  # 0.25 - 0.50 mm\n",
    "    \"#02fd02\",  # 0.50 - 0.75 mm\n",
    "    \"#01c501\",  # 0.75 - 1.00 mm\n",
    "    \"#008e00\",  # 1.00 - 1.50 mm\n",
    "    \"#fdf802\",  # 1.50 - 2.00 mm\n",
    "    \"#e5bc00\",  # 2.00 - 2.50 mm\n",
    "    \"#fd9500\",  # 2.50 - 3.00 mm\n",
    "    \"#fd0000\",  # 3.00 - 4.00 mm\n",
    "    \"#d40000\",  # 4.00 - 5.00 mm\n",
    "    \"#bc0000\",  # 5.00 - 6.00 mm\n",
    "    \"#000000\",  # 6.00 - 8.00 mm\n",
    "    \"#9854c6\",  # 8.00 - 10.00 mm\n",
    "]\n",
    "\n",
    "levels = [\n",
    "    0.,\n",
    "    0.5,\n",
    "    1,\n",
    "    1.5,\n",
    "    2,\n",
    "    3,\n",
    "    5,\n",
    "    7,\n",
    "    13,\n",
    "    20,\n",
    "    33,\n",
    "    53,\n",
    "    86,\n",
    "    139,\n",
    "    300,\n",
    "    500,\n",
    "]\n",
    "\n",
    "precip_colormap = matplotlib.colors.ListedColormap(nws_precip_colors)\n",
    "\n",
    "def plot_conus():\n",
    "    # map max and min lats (Poland)\n",
    "    lat_min, lat_max = 48.8, 55.0\n",
    "    lon_min, lon_max = 13.8, 24.4\n",
    "\n",
    "    # size of result image\n",
    "    fig = plt.figure(figsize=(10.0, 9.0))\n",
    "\n",
    "    # margins\n",
    "    plt.subplots_adjust(left=0.10, right=0.90, top=0.90, bottom=0.10, wspace=0.15, hspace=0.05)\n",
    "    m = Basemap(\n",
    "        resolution='i',\n",
    "        projection='merc',\n",
    "        llcrnrlat=lat_min,\n",
    "        urcrnrlat=lat_max,\n",
    "        llcrnrlon=lon_min,\n",
    "        urcrnrlon=lon_max)\n",
    "    m.drawcountries(linewidth=0.5)\n",
    "    m.drawcoastlines(linewidth=0.5)\n",
    "    \n",
    "    # draw cities\n",
    "    for name, data in cities.items():\n",
    "        # coordinates in reversed order\n",
    "        x, y = m(data['pos'][1], data['pos'][0])\n",
    "\n",
    "        # drawing a symbol\n",
    "        m.plot(x, y, 'bo', markersize=10)\n",
    "\n",
    "        # draw a label with offset\n",
    "        plt.text(x + 10000, y + 1000, name)\n",
    "    \n",
    "    return m\n",
    "\n",
    "def countColumns(input):\n",
    "    columns = 0\n",
    "    for key, value in input.items():\n",
    "        if (key[0] == 0):\n",
    "            columns += 1\n",
    "            continue\n",
    "        break\n",
    "    \n",
    "    return columns\n",
    "\n",
    "def countRows(input):\n",
    "    rows = 0\n",
    "    for key, value in input.items():\n",
    "        if (key[1] == 0):\n",
    "            rows += 1\n",
    "            continue\n",
    "    \n",
    "    return rows\n",
    "\n",
    "def getData(input):\n",
    "    numRows = countRows(input)\n",
    "    numColumns = countColumns(input)\n",
    "    \n",
    "    lats = np.empty((numRows + 1, numColumns + 1), dtype='float')\n",
    "    longs = np.empty((numRows + 1, numColumns + 1), dtype='float')\n",
    "    precip_data = np.empty((numRows, numColumns), dtype='float')\n",
    "    \n",
    "    for column in range(numColumns):\n",
    "        for row in range(numRows):\n",
    "            value = input[(row, column)]['value']\n",
    "            if value < 0.01:\n",
    "                value = 0.0\n",
    "            precip_data[row][column] = value\n",
    "            \n",
    "            lats[row + 1][column] = input[(row, column)]['coordinates']['left_upper_corner']['lat']\n",
    "            longs[row + 1][column] = input[(row, column)]['coordinates']['left_upper_corner']['lng']\n",
    "            \n",
    "            lats[row + 1][column + 1] = input[(row, column)]['coordinates']['right_upper_corner']['lat']\n",
    "            longs[row + 1][column + 1] = input[(row, column)]['coordinates']['right_upper_corner']['lng']\n",
    "            \n",
    "            lats[row][column] = input[(row, column)]['coordinates']['left_down_corner']['lat']\n",
    "            longs[row][column] = input[(row, column)]['coordinates']['left_down_corner']['lng']\n",
    "            \n",
    "            lats[row][column + 1] = input[(row, column)]['coordinates']['right_down_corner']['lat']\n",
    "            longs[row][column + 1] = input[(row, column)]['coordinates']['right_down_corner']['lng']\n",
    "            \n",
    "    return lats, longs, precip_data\n",
    "            \n",
    "lats, longs, precip_data = getData(data[8][1])\n",
    "\n",
    "m = plot_conus()\n",
    "norm = matplotlib.colors.BoundaryNorm(levels, 15)\n",
    "cax = m.pcolormesh(longs, lats, precip_data, latlon=True, norm=norm, cmap=precip_colormap)\n",
    "m.colorbar(cax)"
   ]
  },
  {
   "cell_type": "code",
   "execution_count": null,
   "metadata": {},
   "outputs": [],
   "source": []
  }
 ],
 "metadata": {
  "kernelspec": {
   "display_name": "Python 3",
   "language": "python",
   "name": "python3"
  },
  "language_info": {
   "codemirror_mode": {
    "name": "ipython",
    "version": 3
   },
   "file_extension": ".py",
   "mimetype": "text/x-python",
   "name": "python",
   "nbconvert_exporter": "python",
   "pygments_lexer": "ipython3",
   "version": "3.6.9"
  }
 },
 "nbformat": 4,
 "nbformat_minor": 2
}
